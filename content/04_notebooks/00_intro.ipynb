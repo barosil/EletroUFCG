{
 "cells": [
  {
   "cell_type": "markdown",
   "id": "39945ecf",
   "metadata": {
    "vscode": {
     "languageId": "plaintext"
    }
   },
   "source": [
    "# Este é um stub"
   ]
  }
 ],
 "metadata": {
  "language_info": {
   "name": "python"
  }
 },
 "nbformat": 4,
 "nbformat_minor": 5
}
